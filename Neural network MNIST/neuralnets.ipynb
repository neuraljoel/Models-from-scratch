{
 "cells": [
  {
   "cell_type": "markdown",
   "id": "23e4c73a",
   "metadata": {},
   "source": [
    "# Neural network implementation with Numpy\n",
    "\n",
    "* Building an artificial neural network from scratch to categorize handwritten digits"
   ]
  },
  {
   "cell_type": "markdown",
   "id": "176eac43",
   "metadata": {},
   "source": [
    "## Preparing the data"
   ]
  },
  {
   "cell_type": "code",
   "execution_count": 1,
   "id": "ee25a72e",
   "metadata": {},
   "outputs": [],
   "source": [
    "import matplotlib.pyplot as plt\n",
    "import numpy as np\n",
    "import pandas as pd"
   ]
  },
  {
   "cell_type": "code",
   "execution_count": 2,
   "id": "9550461e",
   "metadata": {},
   "outputs": [],
   "source": [
    "data = pd.read_csv('data.csv')"
   ]
  },
  {
   "cell_type": "code",
   "execution_count": 3,
   "id": "3049a0a0",
   "metadata": {},
   "outputs": [],
   "source": [
    "data = np.array(data)\n",
    "m,n = data.shape"
   ]
  },
  {
   "cell_type": "code",
   "execution_count": 4,
   "id": "19d45360",
   "metadata": {},
   "outputs": [
    {
     "data": {
      "text/plain": [
       "(42000, 785)"
      ]
     },
     "execution_count": 4,
     "metadata": {},
     "output_type": "execute_result"
    }
   ],
   "source": [
    "data.shape"
   ]
  },
  {
   "cell_type": "code",
   "execution_count": 5,
   "id": "4180f410",
   "metadata": {},
   "outputs": [
    {
     "data": {
      "text/plain": [
       "(785, 41000)"
      ]
     },
     "execution_count": 5,
     "metadata": {},
     "output_type": "execute_result"
    }
   ],
   "source": [
    "train_data = data[0:-1000].T\n",
    "train_data.shape"
   ]
  },
  {
   "cell_type": "code",
   "execution_count": 6,
   "id": "c8e7f165",
   "metadata": {},
   "outputs": [],
   "source": [
    "X_train = train_data[1:]\n",
    "y_train = train_data[0]"
   ]
  },
  {
   "cell_type": "code",
   "execution_count": 7,
   "id": "95ede86f",
   "metadata": {},
   "outputs": [
    {
     "data": {
      "text/plain": [
       "(784, 41000)"
      ]
     },
     "execution_count": 7,
     "metadata": {},
     "output_type": "execute_result"
    }
   ],
   "source": [
    "X_train.shape"
   ]
  },
  {
   "cell_type": "code",
   "execution_count": 8,
   "id": "0fa61f8d",
   "metadata": {},
   "outputs": [
    {
     "data": {
      "text/plain": [
       "(41000,)"
      ]
     },
     "execution_count": 8,
     "metadata": {},
     "output_type": "execute_result"
    }
   ],
   "source": [
    "y_train.shape"
   ]
  },
  {
   "cell_type": "code",
   "execution_count": 9,
   "id": "fad2ffff",
   "metadata": {},
   "outputs": [],
   "source": [
    "test_data = data[-1000:].T"
   ]
  },
  {
   "cell_type": "code",
   "execution_count": 10,
   "id": "1b780511",
   "metadata": {},
   "outputs": [],
   "source": [
    "X_test = test_data[1:]\n",
    "y_test = test_data[0]"
   ]
  },
  {
   "cell_type": "code",
   "execution_count": 11,
   "id": "cafe81cf",
   "metadata": {},
   "outputs": [
    {
     "data": {
      "text/plain": [
       "(784, 1000)"
      ]
     },
     "execution_count": 11,
     "metadata": {},
     "output_type": "execute_result"
    }
   ],
   "source": [
    "X_test.shape"
   ]
  },
  {
   "cell_type": "code",
   "execution_count": 12,
   "id": "1d248d58",
   "metadata": {},
   "outputs": [
    {
     "data": {
      "text/plain": [
       "(1000,)"
      ]
     },
     "execution_count": 12,
     "metadata": {},
     "output_type": "execute_result"
    }
   ],
   "source": [
    "y_test.shape"
   ]
  },
  {
   "cell_type": "code",
   "execution_count": 13,
   "id": "aa4b0452",
   "metadata": {},
   "outputs": [
    {
     "data": {
      "text/plain": [
       "array([[0, 0, 0, ..., 0, 0, 0],\n",
       "       [0, 0, 0, ..., 0, 0, 0],\n",
       "       [0, 0, 0, ..., 0, 0, 0],\n",
       "       ...,\n",
       "       [0, 0, 0, ..., 0, 0, 0],\n",
       "       [0, 0, 0, ..., 0, 0, 0],\n",
       "       [0, 0, 0, ..., 0, 0, 0]], dtype=int64)"
      ]
     },
     "execution_count": 13,
     "metadata": {},
     "output_type": "execute_result"
    }
   ],
   "source": [
    "X_train"
   ]
  },
  {
   "cell_type": "code",
   "execution_count": 14,
   "id": "96ba6f88",
   "metadata": {},
   "outputs": [],
   "source": [
    "X_train = X_train / 255\n",
    "X_test = X_test / 255"
   ]
  },
  {
   "cell_type": "code",
   "execution_count": 15,
   "id": "beb82830",
   "metadata": {},
   "outputs": [
    {
     "name": "stdout",
     "output_type": "stream",
     "text": [
      "Label: 7\n"
     ]
    },
    {
     "data": {
      "image/png": "[encoded data removed]",
      "text/plain": [
       "<Figure size 640x480 with 1 Axes>"
      ]
     },
     "metadata": {},
     "output_type": "display_data"
    }
   ],
   "source": [
    "index = 6\n",
    "\n",
    "print(\"Label:\", y_train[index])\n",
    "\n",
    "image = (X_train[:, index]).reshape(28,28)\n",
    "\n",
    "plt.imshow(image);"
   ]
  },
  {
   "cell_type": "markdown",
   "id": "23b63d5f",
   "metadata": {},
   "source": [
    "## Building the neural network"
   ]
  },
  {
   "cell_type": "code",
   "execution_count": 16,
   "id": "42403218",
   "metadata": {},
   "outputs": [],
   "source": [
    "class NN():\n",
    "    def __init__(self, X_train, y_train, iterations, alpha):\n",
    "        \n",
    "        self.X_train = X_train\n",
    "        self.y_train = y_train\n",
    "        \n",
    "        self.W1 = np.random.rand(10, 784) - 0.5\n",
    "        self.b1 = np.random.rand(10, 1) - 0.5\n",
    "        self.W2 = np.random.rand(10, 10) - 0.5\n",
    "        self.b2 = np.random.rand(10, 1) - 0.5\n",
    "        \n",
    "        self.iterations = iterations\n",
    "        self.alpha = alpha\n",
    "        \n",
    "    def ReLU(self, Z):\n",
    "        activated = np.maximum(Z, 0)\n",
    "        \n",
    "        return activated\n",
    "    \n",
    "    def softmax(self, Z):\n",
    "        activated = np.exp(Z) / sum(np.exp(Z))\n",
    "        \n",
    "        return activated\n",
    "    \n",
    "    def forward_propagation(self):\n",
    "        \n",
    "        Z1 = self.W1.dot(self.X_train) + self.b1\n",
    "        y1 = self.ReLU(Z1)\n",
    "        Z2 = self.W2.dot(y1) + self.b2\n",
    "        y2 = self.softmax(Z2)\n",
    "        \n",
    "        return Z1, y1, Z2, y2\n",
    "        \n",
    "    def one_hot(self, array):\n",
    "        \n",
    "        one_hot_Y = np.zeros((array.size, array.max() + 1)) # Creates a Y.size x [ Y.max()+1 ]=10, matrix of zeros\n",
    "        one_hot_Y[np.arange(array.size), array] = 1\n",
    "        one_hot_Y = one_hot_Y.T\n",
    "        \n",
    "        return one_hot_Y\n",
    "    \n",
    "    def dReLu(self, Z):\n",
    "        return Z>0\n",
    "        \n",
    "    def backward_propagation(self, Z1, y1, Z2, y2):\n",
    "        \n",
    "        m = self.y_train.size\n",
    "        one_hot_Y = self.one_hot(self.y_train)\n",
    "        \n",
    "        dz2 = y2 - one_hot_Y\n",
    "        dw2 = 1/m * dz2.dot(y1.T)\n",
    "        db2 = 1/m * np.sum(dz2)\n",
    "        \n",
    "        dz1 = self.W2.T.dot(dz2) * self.dReLu(Z1)\n",
    "        dw1 = 1/m * dz1.dot(self.X_train.T)\n",
    "        db1 = 1/m * np.sum(dz1)\n",
    "        \n",
    "        return dw1, db1, dw2, db2\n",
    "    \n",
    "    def update_parameters(self, dw1, db1, dw2, db2):\n",
    "\n",
    "        self.W1 = self.W1 - self.alpha * dw1\n",
    "        self.b1 = self.b1 - self.alpha * db1\n",
    "        \n",
    "        self.W2 = self.W2 - self.alpha * dw2\n",
    "        self.b2 = self.b2 - self.alpha * db2\n",
    "        \n",
    "    def get_predictions(self, y2):\n",
    "        \n",
    "        return np.argmax(y2, 0)\n",
    "\n",
    "    def get_accuracy(self, predictions, labels):\n",
    "        \n",
    "        return round(np.sum(predictions == labels) / labels.size,3)\n",
    "        \n",
    "    def train(self):\n",
    "        \n",
    "        for i in range(self.iterations + 1):\n",
    "            \n",
    "            Z1, y1, Z2, y2 = self.forward_propagation()\n",
    "            dw1, db1, dw2, db2 = self.backward_propagation(Z1, y1, Z2, y2)\n",
    "            self.update_parameters(dw1, db1, dw2, db2)\n",
    "            \n",
    "            if (i % 10 == 0):\n",
    "                #print(self.alpha)\n",
    "                print(\"Iteration:\", i)\n",
    "                print(\"Accuracy:\", str(self.get_accuracy(self.get_predictions(y2), self.y_train)) + \"\\n\")\n",
    "                \n",
    "    def predict(self, image):\n",
    "        \n",
    "        Z1 = self.W1.dot(image) + self.b1\n",
    "        y1 = self.ReLU(Z1)\n",
    "        Z2 = self.W2.dot(y1) + self.b2\n",
    "        y2 = self.softmax(Z2)\n",
    "        prediction = self.get_predictions(y2)\n",
    "        \n",
    "        return prediction"
   ]
  },
  {
   "cell_type": "code",
   "execution_count": 17,
   "id": "a9151d6f",
   "metadata": {
    "scrolled": true
   },
   "outputs": [
    {
     "name": "stdout",
     "output_type": "stream",
     "text": [
      "Iteration: 0\n",
      "Accuracy: 0.142\n",
      "\n",
      "Iteration: 10\n",
      "Accuracy: 0.258\n",
      "\n",
      "Iteration: 20\n",
      "Accuracy: 0.378\n",
      "\n",
      "Iteration: 30\n",
      "Accuracy: 0.458\n",
      "\n",
      "Iteration: 40\n",
      "Accuracy: 0.529\n",
      "\n",
      "Iteration: 50\n",
      "Accuracy: 0.583\n",
      "\n",
      "Iteration: 60\n",
      "Accuracy: 0.627\n",
      "\n",
      "Iteration: 70\n",
      "Accuracy: 0.661\n",
      "\n",
      "Iteration: 80\n",
      "Accuracy: 0.69\n",
      "\n",
      "Iteration: 90\n",
      "Accuracy: 0.711\n",
      "\n",
      "Iteration: 100\n",
      "Accuracy: 0.729\n",
      "\n",
      "Iteration: 110\n",
      "Accuracy: 0.744\n",
      "\n",
      "Iteration: 120\n",
      "Accuracy: 0.757\n",
      "\n",
      "Iteration: 130\n",
      "Accuracy: 0.769\n",
      "\n",
      "Iteration: 140\n",
      "Accuracy: 0.779\n",
      "\n",
      "Iteration: 150\n",
      "Accuracy: 0.787\n",
      "\n",
      "Iteration: 160\n",
      "Accuracy: 0.795\n",
      "\n",
      "Iteration: 170\n",
      "Accuracy: 0.801\n",
      "\n",
      "Iteration: 180\n",
      "Accuracy: 0.808\n",
      "\n",
      "Iteration: 190\n",
      "Accuracy: 0.813\n",
      "\n",
      "Iteration: 200\n",
      "Accuracy: 0.818\n",
      "\n",
      "Iteration: 210\n",
      "Accuracy: 0.822\n",
      "\n",
      "Iteration: 220\n",
      "Accuracy: 0.826\n",
      "\n",
      "Iteration: 230\n",
      "Accuracy: 0.83\n",
      "\n",
      "Iteration: 240\n",
      "Accuracy: 0.832\n",
      "\n",
      "Iteration: 250\n",
      "Accuracy: 0.835\n",
      "\n",
      "Iteration: 260\n",
      "Accuracy: 0.837\n",
      "\n",
      "Iteration: 270\n",
      "Accuracy: 0.841\n",
      "\n",
      "Iteration: 280\n",
      "Accuracy: 0.843\n",
      "\n",
      "Iteration: 290\n",
      "Accuracy: 0.845\n",
      "\n",
      "Iteration: 300\n",
      "Accuracy: 0.847\n",
      "\n",
      "Iteration: 310\n",
      "Accuracy: 0.849\n",
      "\n",
      "Iteration: 320\n",
      "Accuracy: 0.85\n",
      "\n",
      "Iteration: 330\n",
      "Accuracy: 0.852\n",
      "\n",
      "Iteration: 340\n",
      "Accuracy: 0.853\n",
      "\n",
      "Iteration: 350\n",
      "Accuracy: 0.855\n",
      "\n"
     ]
    }
   ],
   "source": [
    "model = NN(X_train, y_train, 350, 0.15)\n",
    "\n",
    "model.train()"
   ]
  },
  {
   "cell_type": "markdown",
   "id": "8f885cc0",
   "metadata": {},
   "source": [
    "# Test the model"
   ]
  },
  {
   "cell_type": "code",
   "execution_count": 18,
   "id": "61b70c64",
   "metadata": {},
   "outputs": [
    {
     "name": "stdout",
     "output_type": "stream",
     "text": [
      "Label: 5\n"
     ]
    },
    {
     "data": {
      "image/png": "[encoded data removed]",
      "text/plain": [
       "<Figure size 640x480 with 1 Axes>"
      ]
     },
     "metadata": {},
     "output_type": "display_data"
    }
   ],
   "source": [
    "index = 21\n",
    "\n",
    "print(\"Label:\", y_test[index])\n",
    "\n",
    "image = (X_test[:, index]).reshape(28,28)\n",
    "plt.imshow(image);"
   ]
  },
  {
   "cell_type": "code",
   "execution_count": 19,
   "id": "53409230",
   "metadata": {
    "scrolled": true
   },
   "outputs": [
    {
     "name": "stdout",
     "output_type": "stream",
     "text": [
      "Predicted label: 5\n",
      "Correct label: 5\n"
     ]
    }
   ],
   "source": [
    "prediction = model.predict(X_test[:, index, None])[0]\n",
    "label = y_test[index]\n",
    "\n",
    "print(\"Predicted label:\", prediction)\n",
    "print(\"Correct label:\", label)"
   ]
  },
  {
   "cell_type": "code",
   "execution_count": 20,
   "id": "dedf6201",
   "metadata": {},
   "outputs": [
    {
     "name": "stdout",
     "output_type": "stream",
     "text": [
      "Test set accuracy: 0.852\n"
     ]
    }
   ],
   "source": [
    "all_predictions = model.predict(X_test)\n",
    "\n",
    "all_predictions\n",
    "\n",
    "print(\"Test set accuracy:\", model.get_accuracy(all_predictions, y_test))"
   ]
  }
 ],
 "metadata": {
  "kernelspec": {
   "display_name": "Python 3.9 Tensorflow",
   "language": "python",
   "name": "tensorflow"
  },
  "language_info": {
   "codemirror_mode": {
    "name": "ipython",
    "version": 3
   },
   "file_extension": ".py",
   "mimetype": "text/x-python",
   "name": "python",
   "nbconvert_exporter": "python",
   "pygments_lexer": "ipython3",
   "version": "3.9.13"
  }
 },
 "nbformat": 4,
 "nbformat_minor": 5
}
